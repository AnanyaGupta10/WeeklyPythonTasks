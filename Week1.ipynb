{
 "cells": [
  {
   "cell_type": "code",
   "execution_count": 10,
   "id": "38fb6d35",
   "metadata": {},
   "outputs": [
    {
     "name": "stdout",
     "output_type": "stream",
     "text": [
      "{}\n",
      "Choose a number to sort by:\n",
      "1 for Name\n",
      "2 for Last Modified Date\n",
      "3 for Size\n",
      "4 for Type\n",
      "4\n"
     ]
    },
    {
     "data": {
      "text/plain": [
       "{'.ipynb_checkpoints': '',\n",
       " 'FileIO.ipynb': '.ipynb',\n",
       " 'Untitled.ipynb': '.ipynb',\n",
       " 'Untitled1.ipynb': '.ipynb',\n",
       " 'Untitled2.ipynb': '.ipynb',\n",
       " 'Untitled3.ipynb': '.ipynb',\n",
       " 'Untitled4.ipynb': '.ipynb',\n",
       " 'abctest.txt': '.txt',\n",
       " 'myfirstfile.txt': '.txt',\n",
       " 'pqtest.txt': '.txt',\n",
       " 'test.txt': '.txt',\n",
       " 'wxtest.xlsx': '.xlsx'}"
      ]
     },
     "execution_count": 10,
     "metadata": {},
     "output_type": "execute_result"
    }
   ],
   "source": [
    "#Part 1: Fetching all the files and folders \n",
    "import os\n",
    "from collections import OrderedDict\n",
    "from datetime import datetime\n",
    "import pathlib\n",
    "\n",
    "#path = input(\"enter folder path: \")\n",
    "path = 'C:\\\\Users\\\\USER\\\\Python Stuff'\n",
    "dir_list = os.listdir(path)\n",
    "\n",
    "\n",
    "#Part 2:\n",
    "#this is sorting according to dec order of file size\n",
    "\"\"\"\"dir_list.sort()\n",
    "print(\"--------sorted--------------\")\n",
    "print(dir_list)\"\"\"\n",
    "def ByName(dir_list):\n",
    "    return dir_list\n",
    "\n",
    "list_date = {}\n",
    "def ByLastModified(directory):\n",
    "    for i in directory:\n",
    "        list_date[datetime.fromtimestamp(os.path.getctime(i)).strftime('%d-%m-%y')] = i\n",
    "        #list_date[i] = os.path.getctime(i)\n",
    "    sorted(list_date.items())\n",
    "    return sorted(list_date.items())\n",
    "\n",
    "dir_size = {} \n",
    "def BySize(directory):\n",
    "    for i in directory:\n",
    "        dir_size[os.path.getsize(i)] = i\n",
    "    return sorted(dir_size.items())   \n",
    "print(dir_size)\n",
    "BySize(dir_list)\n",
    "\n",
    "dir_ext = {} \n",
    "def ByType(directory):\n",
    "    for i in directory:\n",
    "        file_extension = pathlib.Path(i).suffix\n",
    "        dir_ext[i] = file_extension\n",
    "    sortedVal = {k: v for k, v in sorted(dir_ext.items(), key= lambda v: v[1])}\n",
    "    return sortedVal\n",
    "    \n",
    "#Part 2 Choose sorting strategy:\n",
    "choice = input('Choose a number to sort by:\\n1 for Name\\n2 for Last Modified Date\\n3 for Size\\n4 for Type\\n')\n",
    "#print(type(choice)) --> string \n",
    "#defining functions names in dictionary \n",
    "choose = {'1':ByName,'2':ByLastModified,'3':BySize,'4':ByType}\n",
    "#calling function by adding () to the dictname[key]() => choose[1]() => ByName()\n",
    "choose[choice](dir_list) \n"
   ]
  },
  {
   "cell_type": "code",
   "execution_count": null,
   "id": "6f2ba1ca",
   "metadata": {},
   "outputs": [],
   "source": []
  }
 ],
 "metadata": {
  "kernelspec": {
   "display_name": "Python 3 (ipykernel)",
   "language": "python",
   "name": "python3"
  },
  "language_info": {
   "codemirror_mode": {
    "name": "ipython",
    "version": 3
   },
   "file_extension": ".py",
   "mimetype": "text/x-python",
   "name": "python",
   "nbconvert_exporter": "python",
   "pygments_lexer": "ipython3",
   "version": "3.9.7"
  }
 },
 "nbformat": 4,
 "nbformat_minor": 5
}
